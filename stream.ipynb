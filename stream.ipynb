{
 "nbformat": 4,
 "nbformat_minor": 0,
 "metadata": {
  "colab": {
   "name": "stream.ipynb",
   "provenance": [],
   "collapsed_sections": []
  },
  "kernelspec": {
   "name": "python3",
   "language": "python",
   "display_name": "Python 3"
  }
 },
 "cells": [
  {
   "cell_type": "code",
   "metadata": {
    "id": "knhtsonBdyLY"
   },
   "source": [
    "import re\n",
    "from bs4 import BeautifulSoup\n",
    "from nltk.tokenize import WordPunctTokenizer\n",
    "tok = WordPunctTokenizer()\n",
    "\n",
    "pat1 = r'@[A-Za-z0-9_]+' # For removing mentions.\n",
    "pat2 = r'https?://[^ ]+' # For removing links.\n",
    "combined_pat = r'|'.join((pat1, pat2)) # For removing links.\n",
    "www_pat = r'www.[^ ]+' # For removing links.\n",
    "negations_dic = {\"isn't\":\"is not\", \"aren't\":\"are not\", \"wasn't\":\"was not\", \"weren't\":\"were not\",\n",
    "                \"haven't\":\"have not\",\"hasn't\":\"has not\",\"hadn't\":\"had not\",\"won't\":\"will not\",\n",
    "                \"wouldn't\":\"would not\", \"don't\":\"do not\", \"doesn't\":\"does not\",\"didn't\":\"did not\",\n",
    "                \"can't\":\"can not\",\"couldn't\":\"could not\",\"shouldn't\":\"should not\",\"mightn't\":\"might not\",\n",
    "                \"mustn't\":\"must not\"} # For removing negations.\n",
    "neg_pattern = re.compile(r'\\b(' + '|'.join(negations_dic.keys()) + r')\\b') # For removing negations.\n",
    "\n",
    "def tweet_cleaner(text):\n",
    "      \"\"\" This cleans the tweets text content\n",
    "          so it can be machine readable.\n",
    "      \"\"\"\n",
    "      soup = BeautifulSoup(text, 'lxml') # Decodes HTML.\n",
    "      souped = soup.get_text()\n",
    "      try: # UTF decoding.\n",
    "          bom_removed = souped.decode(\"utf-8-sig\").replace(u\"\\ufffd\", \"?\")\n",
    "      except:\n",
    "          bom_removed = souped\n",
    "      stripped = re.sub(combined_pat, '', bom_removed) # Gets rid of links.\n",
    "      stripped = re.sub(www_pat, '', stripped) # Gets rid of links.\n",
    "      lower_case = stripped.lower()\n",
    "      neg_handled = neg_pattern.sub(lambda x: negations_dic[x.group()], lower_case)\n",
    "      letters_only = re.sub(\"[^a-zA-Z]\", \" \", neg_handled) # Only lets letters in.\n",
    "      words = [x for x  in tok.tokenize(letters_only) if len(x) > 1] # Below removes whitespace\n",
    "      return (\" \".join(words)).strip()"
   ],
   "execution_count": null,
   "outputs": []
  },
  {
   "cell_type": "code",
   "metadata": {
    "id": "gwtiqjlSfok6"
   },
   "source": [
    "import tweepy\n",
    "import time\n",
    "\n",
    "def main(ticker, name, timer):\n",
    "    \"\"\" timer - seconds \"\"\"\n",
    "\n",
    "    class MyStreamListener(tweepy.StreamListener):\n",
    "        def __init__(self, api):\n",
    "            self.api = api\n",
    "            self.me = api.me()\n",
    "\n",
    "        def on_status(self, status):\n",
    "            \"\"\"This Status event handler for a StreamListener prints the full text of the Tweet,\n",
    "               or if it’s a Retweet, the full text of the Retweeted Tweet.\n",
    "               https://www.geeksforgeeks.org/python-status-object-in-tweepy/ - Attributes\n",
    "            \"\"\"\n",
    "            # If status is a Retweet, it will not have an extended_tweet attribute, and status.text could be truncated.\n",
    "            if hasattr(status, \"retweeted_status\"):  # Check if Retweet\n",
    "                try:\n",
    "                    print(status.retweeted_status.extended_tweet[\"full_text\"])\n",
    "                except AttributeError:\n",
    "                    print(status.retweeted_status.text)\n",
    "            else:\n",
    "                try:\n",
    "                    print(status.extended_tweet[\"full_text\"])\n",
    "                except AttributeError:\n",
    "                    print(status.text)\n",
    "            if time.time() > timeout: # Exits after x seconds has passed.\n",
    "                exit()\n",
    "\n",
    "        def on_error(self, status):\n",
    "            print(\"Error detected\")\n",
    "\n",
    "    # Sets timer.\n",
    "    timeout = time.time() + timer\n",
    "\n",
    "    # Authenticate to Twitter\n",
    "    auth = tweepy.OAuthHandler(\"CONSUMER_KEY\", \"CONSUMER_SECRET\")\n",
    "    auth.set_access_token(\"ACCESS_TOKEN\", \"ACCESS_TOKEN_SECRET\")\n",
    "\n",
    "    # Create API object\n",
    "    api = tweepy.API(auth, wait_on_rate_limit=True, wait_on_rate_limit_notify=True)\n",
    "\n",
    "    tweets_listener = MyStreamListener(api)\n",
    "    stream = tweepy.Stream(api.auth, tweets_listener)\n",
    "    stream.filter(track=[ticker, name], languages=[\"en\"])"
   ],
   "execution_count": null,
   "outputs": []
  }
 ]
}